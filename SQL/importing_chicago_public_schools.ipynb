{
 "cells": [
  {
   "cell_type": "code",
   "execution_count": 1,
   "metadata": {},
   "outputs": [
    {
     "name": "stdout",
     "output_type": "stream",
     "text": [
      "   School_ID                                     NAME_OF_SCHOOL  \\\n",
      "0     610038                  Abraham Lincoln Elementary School   \n",
      "1     610281  Adam Clayton Powell Paideia Community Academy ...   \n",
      "2     610185                Adlai E Stevenson Elementary School   \n",
      "3     609993                    Agustin Lara Elementary Academy   \n",
      "4     610513                      Air Force Academy High School   \n",
      "\n",
      "  Elementary, Middle, or High School         Street_Address     City State  \\\n",
      "0                                 ES        615 W Kemper Pl  Chicago    IL   \n",
      "1                                 ES  7511 S South Shore Dr  Chicago    IL   \n",
      "2                                 ES     8010 S Kostner Ave  Chicago    IL   \n",
      "3                                 ES     4619 S Wolcott Ave  Chicago    IL   \n",
      "4                                 HS        3630 S Wells St  Chicago    IL   \n",
      "\n",
      "   ZIP_Code    Phone_Number  \\\n",
      "0     60614  (773) 534-5720   \n",
      "1     60649  (773) 535-6650   \n",
      "2     60652  (773) 535-2280   \n",
      "3     60609  (773) 535-4389   \n",
      "4     60609  (773) 535-1590   \n",
      "\n",
      "                                                Link  \\\n",
      "0  http://schoolreports.cps.edu/SchoolProgressRep...   \n",
      "1  http://schoolreports.cps.edu/SchoolProgressRep...   \n",
      "2  http://schoolreports.cps.edu/SchoolProgressRep...   \n",
      "3  http://schoolreports.cps.edu/SchoolProgressRep...   \n",
      "4  http://schoolreports.cps.edu/SchoolProgressRep...   \n",
      "\n",
      "                      Network_Manager  ... Freshman_on_Track_Rate__  \\\n",
      "0        Fullerton Elementary Network  ...                      NDA   \n",
      "1           Skyway Elementary Network  ...                      NDA   \n",
      "2           Midway Elementary Network  ...                      NDA   \n",
      "3         Pershing Elementary Network  ...                      NDA   \n",
      "4  Southwest Side High School Network  ...                     91.8   \n",
      "\n",
      "  X_COORDINATE Y_COORDINATE   Latitude  Longitude COMMUNITY_AREA_NUMBER  \\\n",
      "0  1171699.458  1915829.428  41.924497 -87.644522                     7   \n",
      "1  1196129.985  1856209.466  41.760324 -87.556736                    43   \n",
      "2  1148427.165  1851012.215  41.747111 -87.731702                    70   \n",
      "3  1164504.290  1873959.199  41.809757 -87.672145                    61   \n",
      "4  1175177.622  1880745.126  41.828146 -87.632794                    34   \n",
      "\n",
      "  COMMUNITY_AREA_NAME  Ward Police_District                     Location  \n",
      "0        LINCOLN PARK    43              18  (41.92449696, -87.64452163)  \n",
      "1         SOUTH SHORE     7               4  (41.76032435, -87.55673627)  \n",
      "2             ASHBURN    13               8  (41.74711093, -87.73170248)  \n",
      "3            NEW CITY    20               9    (41.8097569, -87.6721446)  \n",
      "4       ARMOUR SQUARE    11               9  (41.82814609, -87.63279369)  \n",
      "\n",
      "[5 rows x 78 columns]\n"
     ]
    }
   ],
   "source": [
    "# Import package\n",
    "from urllib.request import urlretrieve\n",
    "\n",
    "# Import pandas\n",
    "import pandas as pd\n",
    "\n",
    "# Assign url of file: url\n",
    "url = 'https://cf-courses-data.s3.us.cloud-object-storage.appdomain.cloud/IBMDeveloperSkillsNetwork-DB0201EN-SkillsNetwork/labs/FinalModule_Coursera_V5/data/ChicagoPublicSchools.csv'\n",
    "\n",
    "# Save file locally\n",
    "urlretrieve(url, 'chicago_public_schools.csv' )\n",
    "\n",
    "# Read file into a DataFrame and print its head\n",
    "df = pd.read_csv('chicago_public_schools.csv', sep=',')\n",
    "print(df.head())"
   ]
  },
  {
   "cell_type": "code",
   "execution_count": 4,
   "metadata": {},
   "outputs": [
    {
     "data": {
      "text/plain": [
       "0    ES\n",
       "1    ES\n",
       "2    ES\n",
       "3    ES\n",
       "4    HS\n",
       "Name: Elementary, Middle, or High School, dtype: object"
      ]
     },
     "execution_count": 4,
     "metadata": {},
     "output_type": "execute_result"
    }
   ],
   "source": [
    "df['Elementary, Middle, or High School'].head()"
   ]
  },
  {
   "cell_type": "code",
   "execution_count": null,
   "metadata": {},
   "outputs": [],
   "source": []
  }
 ],
 "metadata": {
  "kernelspec": {
   "display_name": "Python 3",
   "language": "python",
   "name": "python3"
  },
  "language_info": {
   "codemirror_mode": {
    "name": "ipython",
    "version": 3
   },
   "file_extension": ".py",
   "mimetype": "text/x-python",
   "name": "python",
   "nbconvert_exporter": "python",
   "pygments_lexer": "ipython3",
   "version": "3.8.5"
  }
 },
 "nbformat": 4,
 "nbformat_minor": 4
}
